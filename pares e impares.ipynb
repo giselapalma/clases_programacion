{
 "cells": [
  {
   "cell_type": "code",
   "execution_count": 1,
   "metadata": {},
   "outputs": [
    {
     "name": "stdout",
     "output_type": "stream",
     "text": [
      "['1', '2', '3', '4', '5', '6', '7', '8', '9', '10']\n"
     ]
    }
   ],
   "source": [
    "numeros=[\"1\",\"2\",\"3\",\"4\",\"5\",\"6\",\"7\",\"8\",\"9\",\"10\"]\n",
    "print(numeros)\n"
   ]
  },
  {
   "cell_type": "code",
   "execution_count": 2,
   "metadata": {},
   "outputs": [
    {
     "name": "stdout",
     "output_type": "stream",
     "text": [
      "['1', '3', '5', '7', '9']\n"
     ]
    }
   ],
   "source": [
    "numeros=numeros[0:12:2]\n",
    "print(numeros)\n"
   ]
  },
  {
   "cell_type": "code",
   "execution_count": 5,
   "metadata": {},
   "outputs": [
    {
     "name": "stdout",
     "output_type": "stream",
     "text": [
      "ingrese un numero:6\n",
      "es par\n"
     ]
    }
   ],
   "source": [
    "par=eval(input(\"ingrese un numero:\"))\n",
    "suma=2\n",
    "while(suma>=par)and (par%suma!=0):\n",
    "    suma=suma+2\n",
    "if suma<=par:\n",
    "    print(\"es par\")\n",
    "else:\n",
    "    print(\"no es par\")\n",
    "    "
   ]
  },
  {
   "cell_type": "code",
   "execution_count": 6,
   "metadata": {},
   "outputs": [
    {
     "name": "stdout",
     "output_type": "stream",
     "text": [
      "ingrese un numero:7\n",
      "no es par\n"
     ]
    }
   ],
   "source": [
    "par=eval(input(\"ingrese un numero:\"))\n",
    "suma=2\n",
    "while(suma>=par)and (par%suma!=2):\n",
    "    suma=suma+2\n",
    "if suma>=par:\n",
    "    print(\"es par\")\n",
    "else:\n",
    "    print(\"no es par\")"
   ]
  },
  {
   "cell_type": "code",
   "execution_count": null,
   "metadata": {},
   "outputs": [],
   "source": []
  }
 ],
 "metadata": {
  "kernelspec": {
   "display_name": "Python 3",
   "language": "python",
   "name": "python3"
  },
  "language_info": {
   "codemirror_mode": {
    "name": "ipython",
    "version": 3
   },
   "file_extension": ".py",
   "mimetype": "text/x-python",
   "name": "python",
   "nbconvert_exporter": "python",
   "pygments_lexer": "ipython3",
   "version": "3.8.3"
  }
 },
 "nbformat": 4,
 "nbformat_minor": 4
}

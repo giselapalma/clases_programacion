{
 "cells": [
  {
   "cell_type": "markdown",
   "metadata": {},
   "source": [
    "LUNES 23"
   ]
  },
  {
   "cell_type": "code",
   "execution_count": 9,
   "metadata": {},
   "outputs": [
    {
     "name": "stdout",
     "output_type": "stream",
     "text": [
      "0 nombre Pedro Perez  salario:  50000\n",
      "total de objetos de empleados 1\n",
      "1 nombre Juan Gómez  salario:  60000\n",
      "total de objetos de empleados 2\n"
     ]
    }
   ],
   "source": [
    "class Empleado(object):\n",
    "    numEmpleados = 0 \n",
    "    def __init__(self, nombre, salario):\n",
    "        self.nombre = nombre\n",
    "        self.salario = salario\n",
    "        self.id = Empleado.numEmpleados\n",
    "        Empleado.numEmpleados+=1\n",
    "        \n",
    "    def cuantosEmpleados(self):\n",
    "        print(\"total de objetos de empleados %d\" % Empleado.numEmpleados)\n",
    "    def printEmpleado(self):\n",
    "        print(self.id, \"nombre\", self.nombre,\"salario: \", self.salario)\n",
    "empleado1 = Empleado(\"Pedro Perez \", 50000)\n",
    "empleado1.printEmpleado()\n",
    "empleado1.cuantosEmpleados()\n",
    "empleado2 = Empleado(\"Juan Gómez \", 60000)\n",
    "empleado2.printEmpleado()\n",
    "empleado2.cuantosEmpleados()"
   ]
  },
  {
   "cell_type": "code",
   "execution_count": 12,
   "metadata": {},
   "outputs": [
    {
     "name": "stdout",
     "output_type": "stream",
     "text": [
      "Pedro Perez \n",
      "Juan Gómez \n"
     ]
    }
   ],
   "source": [
    "lista_empleados=[empleado1, empleado2]\n",
    "if hasattr(empleado1,\"nombre\"):\n",
    "    print(getattr(empleado1,\"nombre\"))\n",
    "if hasattr(empleado2,\"nombre\"):\n",
    "    print(getattr(empleado2,\"nombre\"))    "
   ]
  },
  {
   "cell_type": "code",
   "execution_count": null,
   "metadata": {},
   "outputs": [],
   "source": []
  }
 ],
 "metadata": {
  "kernelspec": {
   "display_name": "Python 3",
   "language": "python",
   "name": "python3"
  },
  "language_info": {
   "codemirror_mode": {
    "name": "ipython",
    "version": 3
   },
   "file_extension": ".py",
   "mimetype": "text/x-python",
   "name": "python",
   "nbconvert_exporter": "python",
   "pygments_lexer": "ipython3",
   "version": "3.8.3"
  }
 },
 "nbformat": 4,
 "nbformat_minor": 4
}

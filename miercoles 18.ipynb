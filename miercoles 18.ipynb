{
 "cells": [
  {
   "cell_type": "markdown",
   "metadata": {},
   "source": [
    "#clase del miercoles 18\n",
    "##Estructuras de control "
   ]
  },
  {
   "cell_type": "markdown",
   "metadata": {},
   "source": [
    "ejemplos:\n",
    "10 == (2*4)\n",
    "2+2 <= 3+1\n",
    "10** != 100\n",
    "b = 1**2 == 1"
   ]
  },
  {
   "cell_type": "code",
   "execution_count": 4,
   "metadata": {},
   "outputs": [
    {
     "name": "stdout",
     "output_type": "stream",
     "text": [
      "Dime tu nombreLuis\n",
      "HOlaLuis\n",
      "¿Qué tal estás?\n",
      "Hasta luego\n"
     ]
    }
   ],
   "source": [
    "nombre=input(\"Dime tu nombre\")\n",
    "if nombre == \"Luis\":\n",
    "    print(\"HOla\"+ nombre)\n",
    "    print(\"¿Qué tal estás?\")\n",
    "print(\"Hasta luego\")"
   ]
  },
  {
   "cell_type": "code",
   "execution_count": 13,
   "metadata": {},
   "outputs": [
    {
     "name": "stdout",
     "output_type": "stream",
     "text": [
      "Dime tu nombreoscar\n",
      "Encantado de conocerte\n",
      "Hasta luego\n"
     ]
    }
   ],
   "source": [
    "nombre=input(\"Dime tu nombre\")\n",
    "if nombre == \"Luis\":\n",
    "    print(\"HOla\"+ nombre)\n",
    "    print(\"Los que se llaman\"+ nombre+ \"no me caen bien\")\n",
    "else:\n",
    "    print(\"Encantado de conocerte\")\n",
    "print(\"Hasta luego\")"
   ]
  },
  {
   "cell_type": "code",
   "execution_count": 14,
   "metadata": {},
   "outputs": [
    {
     "name": "stdout",
     "output_type": "stream",
     "text": [
      "Dime un numero:veinte\n",
      "Eso no es un numero\n"
     ]
    }
   ],
   "source": [
    "numero=input(\"Dime un numero:\")\n",
    "\n",
    "if numero.isdigit():\n",
    "    pass\n",
    "else:\n",
    "    print(\"Eso no es un numero\")"
   ]
  },
  {
   "cell_type": "code",
   "execution_count": 15,
   "metadata": {},
   "outputs": [
    {
     "name": "stdout",
     "output_type": "stream",
     "text": [
      "Dime un numero:45\n"
     ]
    }
   ],
   "source": [
    "numero=input(\"Dime un numero:\")\n",
    "\n",
    "if numero.isdigit():\n",
    "    pass\n",
    "else:\n",
    "    print(\"Eso no es un numero\")"
   ]
  },
  {
   "cell_type": "code",
   "execution_count": 18,
   "metadata": {},
   "outputs": [
    {
     "name": "stdout",
     "output_type": "stream",
     "text": [
      "Dime un numero:45\n",
      "Es impar\n"
     ]
    }
   ],
   "source": [
    "numero=input(\"Dime un numero:\")\n",
    "\n",
    "if numero.isdigit():\n",
    "    numero=eval(numero)\n",
    "    if numero%2==0:\n",
    "        print(\"Es par\")\n",
    "    else:\n",
    "        print(\"Es impar\")\n",
    "else:\n",
    "    print(\"Eso no es un numero\")"
   ]
  },
  {
   "cell_type": "code",
   "execution_count": 19,
   "metadata": {},
   "outputs": [
    {
     "name": "stdout",
     "output_type": "stream",
     "text": [
      "Dime un numero:32\n",
      "Es par\n"
     ]
    }
   ],
   "source": [
    "numero=input(\"Dime un numero:\")\n",
    "\n",
    "if numero.isdigit():\n",
    "    numero=eval(numero)\n",
    "    if numero%2==0:\n",
    "        print(\"Es par\")\n",
    "    else:\n",
    "        print(\"Es impar\")\n",
    "else:\n",
    "    print(\"Eso no es un numero\")"
   ]
  },
  {
   "cell_type": "markdown",
   "metadata": {},
   "source": [
    "# Bucle While"
   ]
  },
  {
   "cell_type": "code",
   "execution_count": 20,
   "metadata": {},
   "outputs": [
    {
     "name": "stdout",
     "output_type": "stream",
     "text": [
      "1\n",
      "2\n",
      "3\n",
      "4\n",
      "5\n",
      "6\n",
      "7\n",
      "8\n",
      "9\n",
      "10\n"
     ]
    }
   ],
   "source": [
    "a=1\n",
    "while a <= 10:\n",
    "    print(a)\n",
    "    a = a + 1"
   ]
  },
  {
   "cell_type": "code",
   "execution_count": 21,
   "metadata": {},
   "outputs": [
    {
     "name": "stdout",
     "output_type": "stream",
     "text": [
      "2\n",
      "3\n",
      "4\n",
      "5\n",
      "6\n",
      "7\n",
      "8\n",
      "9\n",
      "10\n",
      "11\n"
     ]
    }
   ],
   "source": [
    "a=1\n",
    "while a <= 10:\n",
    "    a = a + 1\n",
    "    print(a)\n",
    "    "
   ]
  },
  {
   "cell_type": "code",
   "execution_count": 22,
   "metadata": {},
   "outputs": [
    {
     "name": "stdout",
     "output_type": "stream",
     "text": [
      "1.1\n",
      "2.1\n",
      "3.1\n",
      "4.1\n",
      "5.1\n",
      "6.1\n",
      "7.1\n",
      "8.1\n",
      "9.1\n"
     ]
    }
   ],
   "source": [
    "a=1.1\n",
    "while a <= 10:\n",
    "    print(a)\n",
    "    a = a + 1"
   ]
  },
  {
   "cell_type": "code",
   "execution_count": 26,
   "metadata": {},
   "outputs": [
    {
     "name": "stdout",
     "output_type": "stream",
     "text": [
      "Dime el dividendo42\n",
      "dime el divisor2\n",
      "cociente:  21\n",
      "resto: 0\n"
     ]
    }
   ],
   "source": [
    "dividendo=eval(input(\"Dime el dividendo\"))\n",
    "divisor=eval(input(\"dime el divisor\"))\n",
    "cociente=0\n",
    "\n",
    "while dividendo >= divisor:\n",
    "    cociente=cociente+1\n",
    "    dividendo=dividendo-divisor\n",
    "    \n",
    "print(\"cociente: \" , cociente)\n",
    "print(\"resto:\" , dividendo)"
   ]
  },
  {
   "cell_type": "code",
   "execution_count": 27,
   "metadata": {},
   "outputs": [
    {
     "name": "stdout",
     "output_type": "stream",
     "text": [
      "Dime el dividendo47\n",
      "dime el divisor8\n",
      "cociente:  5\n",
      "resto: 7\n"
     ]
    }
   ],
   "source": [
    "dividendo=eval(input(\"Dime el dividendo\"))\n",
    "divisor=eval(input(\"dime el divisor\"))\n",
    "cociente=0\n",
    "\n",
    "while dividendo >= divisor:\n",
    "    cociente=cociente+1\n",
    "    dividendo=dividendo-divisor\n",
    "    \n",
    "print(\"cociente: \" , cociente)\n",
    "print(\"resto:\" , dividendo)"
   ]
  },
  {
   "cell_type": "markdown",
   "metadata": {},
   "source": [
    "## 2^x = 2*2^(x-1)"
   ]
  },
  {
   "cell_type": "code",
   "execution_count": 29,
   "metadata": {},
   "outputs": [
    {
     "name": "stdout",
     "output_type": "stream",
     "text": [
      "dime la potencia(2^x): 10\n",
      "2\n",
      "4\n",
      "8\n",
      "16\n",
      "32\n",
      "64\n",
      "128\n",
      "256\n",
      "512\n",
      "1024\n"
     ]
    }
   ],
   "source": [
    "potencia=eval(input(\"dime la potencia(2^x): \"))\n",
    "pot=1\n",
    "\n",
    "while potencia >0:\n",
    "    pot=pot*2\n",
    "    potencia=potencia-1\n",
    "    print(pot)"
   ]
  },
  {
   "cell_type": "code",
   "execution_count": 30,
   "metadata": {},
   "outputs": [
    {
     "name": "stdout",
     "output_type": "stream",
     "text": [
      "dime la potencia(2^x): 10\n",
      "2 4 8 16 32 64 128 256 512 1024 "
     ]
    }
   ],
   "source": [
    "potencia=eval(input(\"dime la potencia(2^x): \"))\n",
    "pot=1\n",
    "\n",
    "while potencia >0:\n",
    "    pot=pot*2\n",
    "    potencia=potencia-1\n",
    "    print(pot,end=\" \")"
   ]
  },
  {
   "cell_type": "code",
   "execution_count": 43,
   "metadata": {},
   "outputs": [
    {
     "name": "stdout",
     "output_type": "stream",
     "text": [
      "ingrese un numero:18\n",
      "no es primo\n"
     ]
    }
   ],
   "source": [
    "primo = eval(input(\"ingrese un numero:\"))\n",
    "divisor=2 \n",
    "while(divisor<primo) and (primo%divisor!=0):\n",
    "        divisor=divisor+1\n",
    "if divisor>=primo:\n",
    "    print(\"Es primo\")\n",
    "else:\n",
    "    print(\"no es primo\")"
   ]
  },
  {
   "cell_type": "code",
   "execution_count": 41,
   "metadata": {},
   "outputs": [
    {
     "name": "stdout",
     "output_type": "stream",
     "text": [
      "ingrese un numero:3\n",
      "Es primo\n"
     ]
    }
   ],
   "source": [
    "primo = eval(input(\"ingrese un numero:\"))\n",
    "divisor=2 \n",
    "while(divisor<primo) and (primo%divisor!=0):\n",
    "        divisor=divisor+1\n",
    "if divisor>=primo:\n",
    "    print(\"Es primo\")\n",
    "else:\n",
    "    print(\"no es primo\")"
   ]
  },
  {
   "cell_type": "code",
   "execution_count": 44,
   "metadata": {},
   "outputs": [
    {
     "name": "stdout",
     "output_type": "stream",
     "text": [
      "ingrese un numero:10\n",
      "1\n",
      "2\n",
      "3\n",
      "5\n",
      "7\n"
     ]
    }
   ],
   "source": [
    "limite = eval(input(\"ingrese un numero:\"))\n",
    "primo=1\n",
    "while primo<limite:\n",
    "    divisor=2\n",
    "    while(divisor<primo) and (primo%divisor!=0):\n",
    "        divisor=divisor+1\n",
    "    if divisor>=primo:\n",
    "        print(primo)\n",
    "    primo=primo+1\n",
    "    "
   ]
  },
  {
   "cell_type": "code",
   "execution_count": 45,
   "metadata": {},
   "outputs": [
    {
     "name": "stdout",
     "output_type": "stream",
     "text": [
      "ingrese un numero:20\n",
      "1\n",
      "2\n",
      "3\n",
      "5\n",
      "7\n",
      "11\n",
      "13\n",
      "17\n",
      "19\n"
     ]
    }
   ],
   "source": [
    "limite = eval(input(\"ingrese un numero:\"))\n",
    "candidato_a_primo=1\n",
    "\n",
    "#genero los candidatos a numero primo\n",
    "while candidatoa_a_primo<limite:\n",
    "    divisor=2\n",
    "    \n",
    "    #compruebo si el candidato es primo\n",
    "    while(divisor<candidato_a_primo) and (candidato_a_primo%divisor!=0):\n",
    "        divisor=divisor+1\n",
    "    if divisor>=candidato_a_primo:\n",
    "        print(candidato_a_primo)\n",
    "    candidato_a_primo=candidato_a_primo+1\n",
    "    "
   ]
  },
  {
   "cell_type": "code",
   "execution_count": null,
   "metadata": {},
   "outputs": [],
   "source": []
  }
 ],
 "metadata": {
  "kernelspec": {
   "display_name": "Python 3",
   "language": "python",
   "name": "python3"
  },
  "language_info": {
   "codemirror_mode": {
    "name": "ipython",
    "version": 3
   },
   "file_extension": ".py",
   "mimetype": "text/x-python",
   "name": "python",
   "nbconvert_exporter": "python",
   "pygments_lexer": "ipython3",
   "version": "3.8.3"
  }
 },
 "nbformat": 4,
 "nbformat_minor": 4
}

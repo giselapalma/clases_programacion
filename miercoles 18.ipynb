{
 "cells": [
  {
   "cell_type": "markdown",
   "metadata": {},
   "source": [
    "#clase del miercoles 18\n",
    "##Estructuras de control "
   ]
  },
  {
   "cell_type": "markdown",
   "metadata": {},
   "source": [
    "ejemplos:\n",
    "10 == (2*4)\n",
    "2+2 <= 3+1\n",
    "10** != 100\n",
    "b = 1**2 == 1"
   ]
  },
  {
   "cell_type": "code",
   "execution_count": null,
   "metadata": {},
   "outputs": [],
   "source": [
    "nombre=input(\"Dime tu nombre\")\n",
    "if nombre == \"Luis\":\n",
    "    print(\"HOla\"+ nombre)\n",
    "    print(\"¿Qué tal estás?\")\n",
    "print(\"Hasta luego\")"
   ]
  },
  {
   "cell_type": "code",
   "execution_count": null,
   "metadata": {},
   "outputs": [],
   "source": [
    "nombre=input(\"Dime tu nombre\")\n",
    "if nombre == \"Luis\":\n",
    "    print(\"HOla\"+ nombre)\n",
    "    print(\"Los que se llaman\"+ nombre+ \"no me caen bien\")\n",
    "else:\n",
    "    print(\"Encantado de conocerte\")\n",
    "print(\"Hasta luego\")"
   ]
  },
  {
   "cell_type": "code",
   "execution_count": null,
   "metadata": {},
   "outputs": [],
   "source": [
    "numero=input(\"Dime un numero:\")\n",
    "\n",
    "if numero.isdigit():\n",
    "    pass\n",
    "else:\n",
    "    print(\"Eso no es un numero\")"
   ]
  },
  {
   "cell_type": "code",
   "execution_count": null,
   "metadata": {},
   "outputs": [],
   "source": [
    "numero=input(\"Dime un numero:\")\n",
    "\n",
    "if numero.isdigit():\n",
    "    pass\n",
    "else:\n",
    "    print(\"Eso no es un numero\")"
   ]
  },
  {
   "cell_type": "code",
   "execution_count": null,
   "metadata": {},
   "outputs": [],
   "source": [
    "numero=input(\"Dime un numero:\")\n",
    "\n",
    "if numero.isdigit():\n",
    "    numero=eval(numero)\n",
    "    if numero%2==0:\n",
    "        print(\"Es par\")\n",
    "    else:\n",
    "        print(\"Es impar\")\n",
    "else:\n",
    "    print(\"Eso no es un numero\")"
   ]
  },
  {
   "cell_type": "code",
   "execution_count": null,
   "metadata": {},
   "outputs": [],
   "source": [
    "numero=input(\"Dime un numero:\")\n",
    "\n",
    "if numero.isdigit():\n",
    "    numero=eval(numero)\n",
    "    if numero%2==0:\n",
    "        print(\"Es par\")\n",
    "    else:\n",
    "        print(\"Es impar\")\n",
    "else:\n",
    "    print(\"Eso no es un numero\")"
   ]
  },
  {
   "cell_type": "markdown",
   "metadata": {},
   "source": [
    "# Bucle While"
   ]
  },
  {
   "cell_type": "code",
   "execution_count": null,
   "metadata": {},
   "outputs": [],
   "source": [
    "a=1\n",
    "while a <= 10:\n",
    "    print(a)\n",
    "    a = a + 1"
   ]
  },
  {
   "cell_type": "code",
   "execution_count": null,
   "metadata": {},
   "outputs": [],
   "source": [
    "a=1\n",
    "while a <= 10:\n",
    "    a = a + 1\n",
    "    print(a)\n",
    "    "
   ]
  },
  {
   "cell_type": "code",
   "execution_count": null,
   "metadata": {},
   "outputs": [],
   "source": [
    "a=1.1\n",
    "while a <= 10:\n",
    "    print(a)\n",
    "    a = a + 1"
   ]
  },
  {
   "cell_type": "code",
   "execution_count": null,
   "metadata": {},
   "outputs": [],
   "source": [
    "dividendo=eval(input(\"Dime el dividendo\"))\n",
    "divisor=eval(input(\"dime el divisor\"))\n",
    "cociente=0\n",
    "\n",
    "while dividendo >= divisor:\n",
    "    cociente=cociente+1\n",
    "    dividendo=dividendo-divisor\n",
    "    \n",
    "print(\"cociente: \" , cociente)\n",
    "print(\"resto:\" , dividendo)"
   ]
  },
  {
   "cell_type": "code",
   "execution_count": null,
   "metadata": {},
   "outputs": [],
   "source": [
    "dividendo=eval(input(\"Dime el dividendo\"))\n",
    "divisor=eval(input(\"dime el divisor\"))\n",
    "cociente=0\n",
    "\n",
    "while dividendo >= divisor:\n",
    "    cociente=cociente+1\n",
    "    dividendo=dividendo-divisor\n",
    "    \n",
    "print(\"cociente: \" , cociente)\n",
    "print(\"resto:\" , dividendo)"
   ]
  },
  {
   "cell_type": "markdown",
   "metadata": {},
   "source": [
    "## 2^x = 2*2^(x-1)"
   ]
  },
  {
   "cell_type": "code",
   "execution_count": null,
   "metadata": {},
   "outputs": [],
   "source": [
    "potencia=eval(input(\"dime la potencia(2^x): \"))\n",
    "pot=1\n",
    "\n",
    "while potencia >0:\n",
    "    pot=pot*2\n",
    "    potencia=potencia-1\n",
    "    print(pot)"
   ]
  },
  {
   "cell_type": "code",
   "execution_count": null,
   "metadata": {},
   "outputs": [],
   "source": [
    "potencia=eval(input(\"dime la potencia(2^x): \"))\n",
    "pot=1\n",
    "\n",
    "while potencia >0:\n",
    "    pot=pot*2\n",
    "    potencia=potencia-1\n",
    "    print(pot,end=\" \")"
   ]
  },
  {
   "cell_type": "code",
   "execution_count": null,
   "metadata": {},
   "outputs": [],
   "source": [
    "primo = eval(input(\"ingrese un numero:\"))\n",
    "divisor=2 \n",
    "while(divisor<primo) and (primo%divisor!=0):\n",
    "        divisor=divisor+1\n",
    "if divisor>=primo:\n",
    "    print(\"Es primo\")\n",
    "else:\n",
    "    print(\"no es primo\")"
   ]
  },
  {
   "cell_type": "code",
   "execution_count": null,
   "metadata": {},
   "outputs": [],
   "source": [
    "primo = eval(input(\"ingrese un numero:\"))\n",
    "divisor=2 \n",
    "while(divisor<primo) and (primo%divisor!=0):\n",
    "        divisor=divisor+1\n",
    "if divisor>=primo:\n",
    "    print(\"Es primo\")\n",
    "else:\n",
    "    print(\"no es primo\")"
   ]
  },
  {
   "cell_type": "code",
   "execution_count": null,
   "metadata": {},
   "outputs": [],
   "source": [
    "limite = eval(input(\"ingrese un numero:\"))\n",
    "primo=1\n",
    "while primo<limite:\n",
    "    divisor=2\n",
    "    while(divisor<primo) and (primo%divisor!=0):\n",
    "        divisor=divisor+1\n",
    "    if divisor>=primo:\n",
    "        print(primo)\n",
    "    primo=primo+1\n",
    "    "
   ]
  },
  {
   "cell_type": "code",
   "execution_count": null,
   "metadata": {},
   "outputs": [],
   "source": [
    "limite = eval(input(\"ingrese un numero:\"))\n",
    "candidato_a_primo=1\n",
    "\n",
    "#genero los candidatos a numero primo\n",
    "while candidatoa_a_primo<limite:\n",
    "    divisor=2\n",
    "    \n",
    "    #compruebo si el candidato es primo\n",
    "    while(divisor<candidato_a_primo) and (candidato_a_primo%divisor!=0):\n",
    "        divisor=divisor+1\n",
    "    if divisor>=candidato_a_primo:\n",
    "        print(candidato_a_primo)\n",
    "    candidato_a_primo=candidato_a_primo+1\n",
    "    "
   ]
  },
  {
   "cell_type": "markdown",
   "metadata": {},
   "source": [
    "estructuras de datos"
   ]
  },
  {
   "cell_type": "code",
   "execution_count": null,
   "metadata": {},
   "outputs": [],
   "source": [
    "meses=[\"enero\",\"febrero\",\"marzo\",\"abril\",\"mayo\",\"junio\",\"julio\",\"agosto\",\"septiembre\",\"octubre\",\"noviembre,diciembre\"]\n",
    "print(meses)"
   ]
  },
  {
   "cell_type": "code",
   "execution_count": null,
   "metadata": {},
   "outputs": [],
   "source": [
    "meses=[\"enero\",\"febrero\",\"marzo\",\"abril\",\"mayo\",\"junio\",\"julio\",\"agosto\",\"septiembre\",\"octubre\",\"noviembre,diciembre\"]\n",
    "print(meses[3])"
   ]
  },
  {
   "cell_type": "code",
   "execution_count": null,
   "metadata": {},
   "outputs": [],
   "source": [
    "meses.remove(\"febrero\")\n",
    "print(meses)"
   ]
  },
  {
   "cell_type": "code",
   "execution_count": null,
   "metadata": {},
   "outputs": [],
   "source": [
    "meses=[\"enero\",\"febrero\",\"marzo\",\"abril\",\"mayo\",\"junio\",\"julio\",\"agosto\",\"septiembre\",\"octubre\",\"noviembre,diciembre\"]\n",
    "print (meses.append(\"febrero\"))\n",
    "print(meses)\n",
    "print(len(meses))"
   ]
  },
  {
   "cell_type": "code",
   "execution_count": null,
   "metadata": {},
   "outputs": [],
   "source": [
    "meses=[\"enero\",\"febrero\",\"marzo\",\"abril\",\"mayo\",\"junio\",\"julio\",\"agosto\",\"septiembre\",\"octubre\",\"noviembre,diciembre\"]\n",
    "print (meses.append(\"febrero\"))\n",
    "print(meses)\n",
    "\n",
    "pos=0\n",
    "while pos<len(meses):\n",
    "    print(len(meses[pos]))\n",
    "    pos=pos+1\n",
    "    "
   ]
  },
  {
   "cell_type": "code",
   "execution_count": null,
   "metadata": {},
   "outputs": [],
   "source": [
    "meses=[\"enero\",\"febrero\",\"marzo\",\"abril\",\"mayo\",\"junio\",\"julio\",\"agosto\",\"septiembre\",\"octubre\",\"noviembre,diciembre\"]\n",
    "print (meses.append(\"febrero\"))\n",
    "print(meses)\n",
    "\n",
    "pos=0\n",
    "while pos<len(meses):\n",
    "    print(len(meses[pos]))\n",
    "    pos=pos+1"
   ]
  },
  {
   "cell_type": "code",
   "execution_count": null,
   "metadata": {},
   "outputs": [],
   "source": [
    "meses=[\"enero\",\"febrero\",\"marzo\",\"abril\",\"mayo\",\"junio\",\"julio\",\"agosto\",\"septiembre\",\"octubre\",\"noviembre,diciembre\"]\n",
    "print (meses.append(\"febrero\"))\n",
    "print(meses)\n",
    "\n",
    "pos=0\n",
    "while pos<len(meses):\n",
    "    print(len(meses[pos]))\n",
    "    pos=pos+1\n",
    "    "
   ]
  },
  {
   "cell_type": "code",
   "execution_count": null,
   "metadata": {},
   "outputs": [],
   "source": [
    "meses=[\"enero\",\"febrero\",\"marzo\",\"abril\",\"mayo\",\"junio\",\"julio\",\"agosto\",\"septiembre\",\"octubre\",\"noviembre,diciembre\"]\n",
    "print (meses.append(\"febrero\"))\n",
    "print(meses)\n",
    "\n",
    "pos=0\n",
    "while pos<len(meses):\n",
    "    print(len(meses[pos]))\n",
    "    pos=pos+1\n",
    "    for mes in meses:\n",
    "        "
   ]
  },
  {
   "cell_type": "code",
   "execution_count": null,
   "metadata": {},
   "outputs": [],
   "source": []
  }
 ],
 "metadata": {
  "kernelspec": {
   "display_name": "Python 3",
   "language": "python",
   "name": "python3"
  },
  "language_info": {
   "codemirror_mode": {
    "name": "ipython",
    "version": 3
   },
   "file_extension": ".py",
   "mimetype": "text/x-python",
   "name": "python",
   "nbconvert_exporter": "python",
   "pygments_lexer": "ipython3",
   "version": "3.8.3"
  }
 },
 "nbformat": 4,
 "nbformat_minor": 4
}

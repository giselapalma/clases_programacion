{
 "cells": [
  {
   "cell_type": "markdown",
   "metadata": {},
   "source": [
    "## ejercicios\n"
   ]
  },
  {
   "cell_type": "code",
   "execution_count": 1,
   "metadata": {},
   "outputs": [
    {
     "name": "stdout",
     "output_type": "stream",
     "text": [
      "introduce un número entero positivo10\n"
     ]
    }
   ],
   "source": [
    "numero_st=input(\"introduce un número entero positivo\")\n",
    "if numero_st.isdigit():\n",
    "    pass\n",
    "else:\n",
    "    print(\"eso no es un número\")"
   ]
  },
  {
   "cell_type": "code",
   "execution_count": 2,
   "metadata": {},
   "outputs": [
    {
     "name": "stdout",
     "output_type": "stream",
     "text": [
      "introduce un número entero positivo15\n"
     ]
    }
   ],
   "source": [
    "numero_st=input(\"introduce un número entero positivo\")\n",
    "if numero_st.isdigit():\n",
    "    numero=eval(numero_st)\n",
    "    \n",
    "    pass\n",
    "else:\n",
    "    print(\"eso no es un número\")"
   ]
  },
  {
   "cell_type": "code",
   "execution_count": 4,
   "metadata": {},
   "outputs": [
    {
     "name": "stdout",
     "output_type": "stream",
     "text": [
      "introduce un número entero positivo1111\n",
      "la suma de las cifras es 1\n",
      "la suma de las cifras es 2\n",
      "la suma de las cifras es 3\n",
      "la suma de las cifras es 4\n"
     ]
    }
   ],
   "source": [
    "numero_st=input(\"introduce un número entero positivo\")\n",
    "if numero_st.isdigit():\n",
    "    numero=eval(numero_st)\n",
    "    suma=0\n",
    "    while numero>0:\n",
    "        suma=suma+numero%10\n",
    "        numero=int(numero/10)\n",
    "        print(\"la suma de las cifras es\", suma)\n",
    "    pass\n",
    "else:\n",
    "    print(\"eso no es un número\")"
   ]
  },
  {
   "cell_type": "code",
   "execution_count": 5,
   "metadata": {
    "scrolled": false
   },
   "outputs": [
    {
     "name": "stdout",
     "output_type": "stream",
     "text": [
      "introduce un número entero positivo1234\n",
      "la suma de las cifras es 4\n",
      "la suma de las cifras es 7\n",
      "la suma de las cifras es 9\n",
      "la suma de las cifras es 10\n"
     ]
    }
   ],
   "source": [
    "numero_st=input(\"introduce un número entero positivo\")\n",
    "if numero_st.isdigit():\n",
    "    numero=eval(numero_st)\n",
    "    suma=0\n",
    "    while numero>0:\n",
    "        suma=suma+numero%10\n",
    "        numero=int(numero/10)\n",
    "        print(\"la suma de las cifras es\", suma)\n",
    "    pass\n",
    "else:\n",
    "    print(\"eso no es un número\")\n",
    "    \n",
    "    "
   ]
  },
  {
   "cell_type": "code",
   "execution_count": null,
   "metadata": {},
   "outputs": [],
   "source": []
  }
 ],
 "metadata": {
  "kernelspec": {
   "display_name": "Python 3",
   "language": "python",
   "name": "python3"
  },
  "language_info": {
   "codemirror_mode": {
    "name": "ipython",
    "version": 3
   },
   "file_extension": ".py",
   "mimetype": "text/x-python",
   "name": "python",
   "nbconvert_exporter": "python",
   "pygments_lexer": "ipython3",
   "version": "3.8.3"
  }
 },
 "nbformat": 4,
 "nbformat_minor": 4
}

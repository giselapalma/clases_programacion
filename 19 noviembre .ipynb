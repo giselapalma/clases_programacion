{
 "cells": [
  {
   "cell_type": "code",
   "execution_count": 1,
   "metadata": {},
   "outputs": [
    {
     "name": "stdout",
     "output_type": "stream",
     "text": [
      "['enero', 'febrero', 'marzo', 'abril', 'mayo', 'junio', 'julio', 'agosto', 'septiembre', 'octubre', 'noviembre,diciembre']\n"
     ]
    }
   ],
   "source": [
    "meses=[\"enero\",\"febrero\",\"marzo\",\"abril\",\"mayo\",\"junio\",\"julio\",\"agosto\",\"septiembre\",\"octubre\",\"noviembre,diciembre\"]\n",
    "print(meses)"
   ]
  },
  {
   "cell_type": "code",
   "execution_count": 10,
   "metadata": {},
   "outputs": [
    {
     "name": "stdout",
     "output_type": "stream",
     "text": [
      "0:enero\n",
      "1:febrero\n",
      "2:marzo\n",
      "3:abril\n",
      "4:mayo\n",
      "5:junio\n",
      "6:julio\n",
      "7:agosto\n",
      "8:septiembre\n",
      "9:octubre\n",
      "10:noviembre\n",
      "11:diciembre\n",
      "(0, 'enero')\n",
      "(1, 'febrero')\n",
      "(2, 'marzo')\n",
      "(3, 'abril')\n",
      "(4, 'mayo')\n",
      "(5, 'junio')\n",
      "(6, 'julio')\n",
      "(7, 'agosto')\n",
      "(8, 'septiembre')\n",
      "(9, 'octubre')\n",
      "(10, 'noviembre')\n",
      "(11, 'diciembre')\n"
     ]
    }
   ],
   "source": [
    "meses = [\"enero\",\"febrero\",\"marzo\",\"abril\",\"mayo\",\"junio\",\"julio\",\"agosto\",\"septiembre\",\"octubre\",\"noviembre\",\"diciembre\"]\n",
    "for (i, valor) in enumerate(meses):\n",
    "    print(\"%d:%s\" %(i, valor))\n",
    "for elem in enumerate(meses):\n",
    "    print(elem)"
   ]
  },
  {
   "cell_type": "code",
   "execution_count": 11,
   "metadata": {},
   "outputs": [
    {
     "name": "stdout",
     "output_type": "stream",
     "text": [
      "0 1 2 3 4 5 6 7 8 9 "
     ]
    }
   ],
   "source": [
    "for i in range(10):\n",
    "    print(i,end=\" \")\n",
    "    "
   ]
  },
  {
   "cell_type": "code",
   "execution_count": 14,
   "metadata": {},
   "outputs": [
    {
     "name": "stdout",
     "output_type": "stream",
     "text": [
      "2 4 6 8 10 "
     ]
    }
   ],
   "source": [
    "for i in range(1,11):\n",
    "    if i%2==0:\n",
    "        print(i,end=\" \")"
   ]
  },
  {
   "cell_type": "code",
   "execution_count": 15,
   "metadata": {},
   "outputs": [
    {
     "name": "stdout",
     "output_type": "stream",
     "text": [
      "0 2 4 6 8 10 12 14 16 18 20 22 24 26 28 30 32 34 36 38 40 42 44 46 48 50 52 54 56 58 60 62 64 66 68 70 72 74 76 78 80 82 84 86 88 90 92 94 96 98 100 102 104 106 108 110 112 114 116 118 120 122 124 126 128 130 132 134 136 138 140 142 144 146 148 150 152 154 156 158 160 162 164 166 168 170 172 174 176 178 180 182 184 186 188 190 192 194 196 198 200 202 204 206 208 210 212 214 216 218 220 222 224 226 228 230 232 234 236 238 240 242 244 246 248 250 252 254 256 258 260 262 264 266 268 270 272 274 276 278 280 282 284 286 288 290 292 294 296 298 300 302 304 306 308 310 312 314 316 318 320 322 324 326 328 330 332 334 336 338 340 342 344 346 348 350 352 354 356 358 360 362 364 366 368 370 372 374 376 378 380 382 384 386 388 390 392 394 396 398 400 402 404 406 408 410 412 414 416 418 420 422 424 426 428 430 432 434 436 438 440 442 444 446 448 450 452 454 456 458 460 462 464 466 468 470 472 474 476 478 480 482 484 486 488 490 492 494 496 498 500 502 504 506 508 510 512 514 516 518 520 522 524 526 528 530 532 534 536 538 540 542 544 546 548 550 552 554 556 558 560 562 564 566 568 570 572 574 576 578 580 582 584 586 588 590 592 594 596 598 600 602 604 606 608 610 612 614 616 618 620 622 624 626 628 630 632 634 636 638 640 642 644 646 648 650 652 654 656 658 660 662 664 666 668 670 672 674 676 678 680 682 684 686 688 690 692 694 696 698 700 702 704 706 708 710 712 714 716 718 720 722 724 726 728 730 732 734 736 738 740 742 744 746 748 750 752 754 756 758 760 762 764 766 768 770 772 774 776 778 780 782 784 786 788 790 792 794 796 798 800 802 804 806 808 810 812 814 816 818 820 822 824 826 828 830 832 834 836 838 840 842 844 846 848 850 852 854 856 858 860 862 864 866 868 870 872 874 876 878 880 882 884 886 888 890 892 894 896 898 900 902 904 906 908 910 912 914 916 918 920 922 924 926 928 930 932 934 936 938 940 942 944 946 948 950 952 954 956 958 960 962 964 966 968 970 972 974 976 978 980 982 984 986 988 990 992 994 996 998 1000 1002 1004 1006 1008 1010 1012 1014 1016 1018 1020 1022 1024 1026 1028 1030 1032 1034 1036 1038 1040 1042 1044 1046 1048 1050 1052 1054 1056 1058 1060 1062 1064 1066 1068 1070 1072 1074 1076 1078 1080 1082 1084 1086 1088 1090 1092 1094 1096 1098 1100 1102 1104 1106 1108 1110 1112 1114 1116 1118 1120 1122 1124 1126 1128 1130 1132 1134 1136 1138 1140 1142 1144 1146 1148 1150 1152 1154 1156 1158 1160 1162 1164 1166 1168 1170 1172 1174 1176 1178 1180 1182 1184 1186 1188 1190 1192 1194 1196 1198 1200 1202 1204 1206 1208 1210 1212 1214 1216 1218 1220 1222 1224 1226 1228 1230 1232 1234 1236 1238 1240 1242 1244 1246 1248 1250 1252 1254 1256 1258 1260 1262 1264 1266 1268 1270 1272 1274 1276 1278 1280 1282 1284 1286 1288 "
     ]
    }
   ],
   "source": [
    "for i in range(1290):\n",
    "    if i%2==0:\n",
    "        print(i,end=\" \")"
   ]
  },
  {
   "cell_type": "code",
   "execution_count": 23,
   "metadata": {},
   "outputs": [
    {
     "name": "stdout",
     "output_type": "stream",
     "text": [
      "[0, 1, 2, 3, 4, 5, 6, 7, 8, 9, 10, 11, 12, 13, 14, 15, 16, 17, 18, 19, 20, 21, 22, 23, 24, 25, 26, 27, 28, 29, 30, 31, 32, 33]\n"
     ]
    }
   ],
   "source": [
    "lista_numeros =[]\n",
    "for i in range(34):\n",
    "    lista_numeros.append(i)\n",
    "print(lista_numeros)"
   ]
  },
  {
   "cell_type": "code",
   "execution_count": 30,
   "metadata": {},
   "outputs": [
    {
     "name": "stdout",
     "output_type": "stream",
     "text": [
      "['3', '9', '6', '15', '19']\n",
      "['2', '4', '8', '10', '30', '40', '50', '60', '70', '80', '90']\n"
     ]
    }
   ],
   "source": [
    "lista_a=[\"3\",\"9\",\"6\",\"15\",\"19\"]\n",
    "lista_b=[\"2\",\"4\",\"8\",\"10\",\"30\",\"40\",\"50\",\"60\",\"70\",\"80\",\"90\"]\n",
    "print(lista_a)\n",
    "print(lista_b)"
   ]
  },
  {
   "cell_type": "code",
   "execution_count": 28,
   "metadata": {
    "scrolled": true
   },
   "outputs": [
    {
     "name": "stdout",
     "output_type": "stream",
     "text": [
      "28042 MADRID\n",
      "00001 BARCELONA\n",
      "43082 ORENSE\n"
     ]
    }
   ],
   "source": [
    "cp=[\"28042\",\"00001\",\"43082\"]\n",
    "ciudades=[\"Madrid\", \"Barcelona\",\"Orense\", \"Santander\"]\n",
    "for c1, c2 in zip (cp, ciudades):\n",
    "    print(c1,c2.upper())"
   ]
  },
  {
   "cell_type": "code",
   "execution_count": 31,
   "metadata": {},
   "outputs": [
    {
     "name": "stdout",
     "output_type": "stream",
     "text": [
      "3\n",
      "9\n",
      "8\n",
      "15\n",
      "30\n"
     ]
    }
   ],
   "source": [
    "for a, b in zip(lista_a, lista_b):\n",
    "    if a>b:\n",
    "        print(a)\n",
    "    else:\n",
    "        print(b)"
   ]
  },
  {
   "cell_type": "code",
   "execution_count": 29,
   "metadata": {},
   "outputs": [
    {
     "name": "stdout",
     "output_type": "stream",
     "text": [
      "['28042', '00001', '43082']\n",
      "['00001', '28042', '43082']\n"
     ]
    }
   ],
   "source": [
    "print(cp)\n",
    "cp.sort()\n",
    "print(cp)"
   ]
  },
  {
   "cell_type": "code",
   "execution_count": 32,
   "metadata": {},
   "outputs": [
    {
     "name": "stdout",
     "output_type": "stream",
     "text": [
      "['3', '9', '6', '15', '19']\n",
      "['2', '4', '8', '10', '30', '40', '50', '60', '70', '80', '90']\n"
     ]
    }
   ],
   "source": [
    "lista_a=[\"3\",\"9\",\"6\",\"15\",\"19\"]\n",
    "lista_b=[\"2\",\"4\",\"8\",\"10\",\"30\",\"40\",\"50\",\"60\",\"70\",\"80\",\"90\"]\n",
    "print(lista_a)\n",
    "print(lista_b)"
   ]
  },
  {
   "cell_type": "code",
   "execution_count": 33,
   "metadata": {},
   "outputs": [
    {
     "name": "stdout",
     "output_type": "stream",
     "text": [
      "3\n",
      "9\n",
      "8\n",
      "15\n",
      "30\n"
     ]
    }
   ],
   "source": [
    "for a, b in zip(lista_a, lista_b):\n",
    "    if a>b:\n",
    "        print(a)\n",
    "    else:\n",
    "        print(b)"
   ]
  },
  {
   "cell_type": "code",
   "execution_count": 34,
   "metadata": {},
   "outputs": [
    {
     "name": "stdout",
     "output_type": "stream",
     "text": [
      "['15', '19', '3', '6', '9']\n"
     ]
    }
   ],
   "source": [
    "lista_a.sort()\n",
    "print(lista_a)"
   ]
  },
  {
   "cell_type": "code",
   "execution_count": 42,
   "metadata": {},
   "outputs": [
    {
     "name": "stdout",
     "output_type": "stream",
     "text": [
      "string a buscarenero\n",
      "3\n",
      "enero aparece un 50 % de veces\n"
     ]
    }
   ],
   "source": [
    "lista_strings = [\"enero\", \"enero\", \"febrero\", \"cartel\",\"martillo\", \"enero\"]\n",
    "cadena= input (\"string a buscar\")\n",
    "contador = 0\n",
    "for palabra in lista_strings:\n",
    "    if cadena== palabra:\n",
    "        pass\n",
    "        contador+=1\n",
    "print(contador)\n",
    "print(\"%s aparece un %i %% de veces\"%(cadena, contador/len(lista_strings)*100))\n",
    "        "
   ]
  },
  {
   "cell_type": "code",
   "execution_count": 40,
   "metadata": {},
   "outputs": [
    {
     "name": "stdout",
     "output_type": "stream",
     "text": [
      "1 2 % 3\n"
     ]
    }
   ],
   "source": [
    "print( \"%i %i %% %i\" % (1,2,3) )"
   ]
  },
  {
   "cell_type": "code",
   "execution_count": 49,
   "metadata": {},
   "outputs": [
    {
     "name": "stdout",
     "output_type": "stream",
     "text": [
      "tres\n",
      "3\n",
      "('uno', 'dos', 'tres', 'uno', 'dos', 'tres', 'uno', 'dos', 'tres')\n",
      "('cuatro', 'cinco', 'seis', 'siete')\n"
     ]
    }
   ],
   "source": [
    "tupla1=(\"uno\",\"dos\",\"tres\")\n",
    "tupla2=(\"cuatro\",\"cinco\",\"seis\",\"siete\")\n",
    "print(tupla1[2])\n",
    "print(len(tupla1))\n",
    "print(tupla1*3)\n",
    "tupla1+tupla2\n",
    "#del tupla1[1]#no se pueden borrar elementos de la tupla\n",
    "tupla1=tupla2\n",
    "print((tupla1))\n",
    "#tupla2.append(\"ocho\")#no se puede hacer.\n"
   ]
  },
  {
   "cell_type": "code",
   "execution_count": 50,
   "metadata": {},
   "outputs": [
    {
     "name": "stdout",
     "output_type": "stream",
     "text": [
      "[('28040', 'Madrid'), ('00080', 'Barcelona'), ('28002', 'Madrid')]\n"
     ]
    }
   ],
   "source": [
    "lista_ciudades=[(\"28040\",\"Madrid\"),(\"00080\",\"Barcelona\"),(\"28002\",\"Madrid\")]\n",
    "print(lista_ciudades)"
   ]
  },
  {
   "cell_type": "code",
   "execution_count": 51,
   "metadata": {},
   "outputs": [
    {
     "name": "stdout",
     "output_type": "stream",
     "text": [
      "28040\n",
      "28002\n"
     ]
    }
   ],
   "source": [
    "for ciudad in lista_ciudades:\n",
    "    if ciudad[1]==\"Madrid\":\n",
    "        print(ciudad[0])\n",
    "        "
   ]
  },
  {
   "cell_type": "code",
   "execution_count": 54,
   "metadata": {},
   "outputs": [
    {
     "name": "stdout",
     "output_type": "stream",
     "text": [
      "[('28040', 'Madrid'), ('00080', 'Barcelona'), ('28002', 'Madrid')]\n",
      "28002 28040 "
     ]
    }
   ],
   "source": [
    "lista_ciudades=[(\"28040\",\"Madrid\"),(\"00080\",\"Barcelona\"),(\"28002\",\"Madrid\")]\n",
    "print(lista_ciudades)\n",
    "resultado=[]\n",
    "for ciudad in lista_ciudades:\n",
    "    if ciudad[1]==\"Madrid\":\n",
    "        resultado.append(ciudad[0])\n",
    "resultado.sort()\n",
    "for r in resultado:\n",
    "    print(r,end=\" \")\n",
    "    \n",
    "        \n",
    "        "
   ]
  },
  {
   "cell_type": "code",
   "execution_count": 60,
   "metadata": {},
   "outputs": [
    {
     "name": "stdout",
     "output_type": "stream",
     "text": [
      "{1: 'a', 11: 'b', 2: 'aa', 12: 'bb', 3: 'aaa', 13: 'bbb', 4: 'aaaa', 14: 'bbbb', 5: 'aaaaa', 15: 'bbbbb', 6: 'aaaaaa', 16: 'bbbbbb', 7: 'aaaaaaa', 17: 'bbbbbbb', 8: 'aaaaaaaa', 18: 'bbbbbbbb', 9: 'aaaaaaaaa', 19: 'bbbbbbbbb', 10: 'aaaaaaaaaa', 20: 'bbbbbbbbbb'}\n"
     ]
    }
   ],
   "source": [
    "diccionario={}\n",
    "for i in range(1,11):\n",
    "    diccionario[i]=\"a\"*i\n",
    "    diccionario[i+10]=\"b\"*i\n",
    "print(diccionario)"
   ]
  },
  {
   "cell_type": "code",
   "execution_count": 64,
   "metadata": {},
   "outputs": [
    {
     "name": "stdout",
     "output_type": "stream",
     "text": [
      "1\n",
      "11\n",
      "2\n",
      "12\n",
      "3\n",
      "13\n",
      "4\n",
      "14\n",
      "5\n",
      "15\n",
      "6\n",
      "16\n",
      "7\n",
      "17\n",
      "8\n",
      "18\n",
      "9\n",
      "19\n",
      "10\n",
      "20\n"
     ]
    }
   ],
   "source": [
    "for clave in diccionario:\n",
    "    print(clave)"
   ]
  },
  {
   "cell_type": "code",
   "execution_count": 69,
   "metadata": {},
   "outputs": [
    {
     "name": "stdout",
     "output_type": "stream",
     "text": [
      "1 : a\n",
      "11 : b\n",
      "2 : aa\n",
      "12 : bb\n",
      "3 : aaa\n",
      "13 : bbb\n",
      "4 : aaaa\n",
      "14 : bbbb\n",
      "5 : aaaaa\n",
      "15 : bbbbb\n",
      "6 : aaaaaa\n",
      "16 : bbbbbb\n",
      "7 : aaaaaaa\n",
      "17 : bbbbbbb\n",
      "8 : aaaaaaaa\n",
      "18 : bbbbbbbb\n",
      "9 : aaaaaaaaa\n",
      "19 : bbbbbbbbb\n",
      "10 : aaaaaaaaaa\n",
      "20 : bbbbbbbbbb\n"
     ]
    }
   ],
   "source": [
    "for num in diccionario:\n",
    "    print(num,\":\",end= \" \")\n",
    "    print(diccionario[num])\n"
   ]
  },
  {
   "cell_type": "code",
   "execution_count": 80,
   "metadata": {},
   "outputs": [
    {
     "ename": "SyntaxError",
     "evalue": "invalid syntax (<ipython-input-80-5f2032b6b84f>, line 6)",
     "output_type": "error",
     "traceback": [
      "\u001b[1;36m  File \u001b[1;32m\"<ipython-input-80-5f2032b6b84f>\"\u001b[1;36m, line \u001b[1;32m6\u001b[0m\n\u001b[1;33m    for c in sorted(diccionario)[c]\u001b[0m\n\u001b[1;37m                                   ^\u001b[0m\n\u001b[1;31mSyntaxError\u001b[0m\u001b[1;31m:\u001b[0m invalid syntax\n"
     ]
    }
   ],
   "source": [
    "claves_ordenadas=sorted(diccionario)\n",
    "for c in claves_ordenadas:\n",
    "    print(c,\":\", end= \" \")\n",
    "    print(diccionario[c])\n",
    "diccionario2={}\n",
    "for c in sorted(diccionario)[c]\n",
    "print (diccionario2)\n",
    "    "
   ]
  },
  {
   "cell_type": "code",
   "execution_count": 82,
   "metadata": {},
   "outputs": [
    {
     "data": {
      "text/plain": [
       "['a',\n",
       " 'aa',\n",
       " 'aaa',\n",
       " 'aaaa',\n",
       " 'aaaaa',\n",
       " 'aaaaaa',\n",
       " 'aaaaaaa',\n",
       " 'aaaaaaaa',\n",
       " 'aaaaaaaaa',\n",
       " 'aaaaaaaaaa',\n",
       " 'b',\n",
       " 'bb',\n",
       " 'bbb',\n",
       " 'bbbb',\n",
       " 'bbbbb',\n",
       " 'bbbbbb',\n",
       " 'bbbbbbb',\n",
       " 'bbbbbbbb',\n",
       " 'bbbbbbbbb',\n",
       " 'bbbbbbbbbb']"
      ]
     },
     "execution_count": 82,
     "metadata": {},
     "output_type": "execute_result"
    }
   ],
   "source": [
    "sorted (diccionario.values())\n"
   ]
  },
  {
   "cell_type": "code",
   "execution_count": 85,
   "metadata": {},
   "outputs": [
    {
     "ename": "SyntaxError",
     "evalue": "invalid syntax (<ipython-input-85-b111715a173a>, line 1)",
     "output_type": "error",
     "traceback": [
      "\u001b[1;36m  File \u001b[1;32m\"<ipython-input-85-b111715a173a>\"\u001b[1;36m, line \u001b[1;32m1\u001b[0m\n\u001b[1;33m    diccionario_ciudades=[\"28040\":\"Madrid\",\"00080\",\"Barcelona\":\"28002\":\"Madrid\"]\u001b[0m\n\u001b[1;37m                                 ^\u001b[0m\n\u001b[1;31mSyntaxError\u001b[0m\u001b[1;31m:\u001b[0m invalid syntax\n"
     ]
    }
   ],
   "source": [
    "diccionario_ciudades=[\"28040\":\"Madrid\",\"00080\",\"Barcelona\":\"28002\":\"Madrid\"]\n",
    "print(sorted(diccionario_ciudades))\n",
    "print(sorted(diccionario_ciudades.value()))"
   ]
  },
  {
   "cell_type": "code",
   "execution_count": null,
   "metadata": {},
   "outputs": [],
   "source": []
  }
 ],
 "metadata": {
  "kernelspec": {
   "display_name": "Python 3",
   "language": "python",
   "name": "python3"
  },
  "language_info": {
   "codemirror_mode": {
    "name": "ipython",
    "version": 3
   },
   "file_extension": ".py",
   "mimetype": "text/x-python",
   "name": "python",
   "nbconvert_exporter": "python",
   "pygments_lexer": "ipython3",
   "version": "3.8.3"
  }
 },
 "nbformat": 4,
 "nbformat_minor": 4
}

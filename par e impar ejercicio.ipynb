{
 "cells": [
  {
   "cell_type": "code",
   "execution_count": 1,
   "metadata": {},
   "outputs": [
    {
     "name": "stdout",
     "output_type": "stream",
     "text": [
      "escribe un numero:4\n",
      "es par\n"
     ]
    }
   ],
   "source": [
    "numero=eval(input(\"escribe un numero:\"))\n",
    "if numero%2==0:\n",
    "    print(\"es par\")\n",
    "\n",
    "elif numero%2==1:\n",
    "    print(\"Es impar\")\n",
    "else:\n",
    "    print(str(numero),\"No es entero\")"
   ]
  },
  {
   "cell_type": "code",
   "execution_count": 2,
   "metadata": {},
   "outputs": [
    {
     "name": "stdout",
     "output_type": "stream",
     "text": [
      "escribe un numero:5\n",
      "Es impar\n"
     ]
    }
   ],
   "source": [
    "numero=eval(input(\"escribe un numero:\"))\n",
    "if numero%2==0:\n",
    "    print(\"es par\")\n",
    "\n",
    "elif numero%2==1:\n",
    "    print(\"Es impar\")\n",
    "else:\n",
    "    print(str(numero),\"No es entero\")"
   ]
  },
  {
   "cell_type": "code",
   "execution_count": null,
   "metadata": {},
   "outputs": [],
   "source": []
  }
 ],
 "metadata": {
  "kernelspec": {
   "display_name": "Python 3",
   "language": "python",
   "name": "python3"
  },
  "language_info": {
   "codemirror_mode": {
    "name": "ipython",
    "version": 3
   },
   "file_extension": ".py",
   "mimetype": "text/x-python",
   "name": "python",
   "nbconvert_exporter": "python",
   "pygments_lexer": "ipython3",
   "version": "3.8.3"
  }
 },
 "nbformat": 4,
 "nbformat_minor": 4
}

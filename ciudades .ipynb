{
 "cells": [
  {
   "cell_type": "code",
   "execution_count": 1,
   "metadata": {},
   "outputs": [
    {
     "name": "stdout",
     "output_type": "stream",
     "text": [
      "['Madrid', 'Barcelona', 'Murcia', 'Alicante', 'Valencia', 'Oporto', 'Sevilla', 'Lisboa', 'Roma']\n"
     ]
    }
   ],
   "source": [
    "ciudades=[\"Madrid\",\"Barcelona\",\"Murcia\",\"Alicante\",\"Valencia\",\"Oporto\",\"Sevilla\",\"Lisboa\",\"Roma\"]\n",
    "print(ciudades)"
   ]
  },
  {
   "cell_type": "code",
   "execution_count": 3,
   "metadata": {},
   "outputs": [
    {
     "name": "stdout",
     "output_type": "stream",
     "text": [
      "Valencia\n"
     ]
    }
   ],
   "source": [
    "ciudades=[\"Madrid\",\"Barcelona\",\"Murcia\",\"Alicante\",\"Valencia\",\"Oporto\",\"Sevilla\",\"Lisboa\",\"Roma\"]\n",
    "print(ciudades[4])\n",
    "    \n",
    "\n"
   ]
  },
  {
   "cell_type": "code",
   "execution_count": 4,
   "metadata": {},
   "outputs": [
    {
     "name": "stdout",
     "output_type": "stream",
     "text": [
      "['Madrid', 'Murcia', 'Alicante', 'Valencia', 'Oporto', 'Sevilla', 'Lisboa', 'Roma']\n"
     ]
    }
   ],
   "source": [
    "ciudades.remove(\"Barcelona\")\n",
    "print(ciudades)"
   ]
  },
  {
   "cell_type": "code",
   "execution_count": 5,
   "metadata": {},
   "outputs": [
    {
     "name": "stdout",
     "output_type": "stream",
     "text": [
      "None\n",
      "['Madrid', 'Barcelona', 'Murcia', 'Alicante', 'Valencia', 'Oporto', 'Sevilla', 'Lisboa', 'Roma', 'Barcelona']\n"
     ]
    }
   ],
   "source": [
    "ciudades=[\"Madrid\",\"Barcelona\",\"Murcia\",\"Alicante\",\"Valencia\",\"Oporto\",\"Sevilla\",\"Lisboa\",\"Roma\"]\n",
    "print(ciudades.append(\"Barcelona\"))\n",
    "print(ciudades)"
   ]
  },
  {
   "cell_type": "code",
   "execution_count": 9,
   "metadata": {},
   "outputs": [
    {
     "name": "stdout",
     "output_type": "stream",
     "text": [
      "None\n",
      "['Madrid', 'Barcelona', 'Murcia', 'Alicante', 'Valencia', 'Oporto', 'Sevilla', 'Lisboa', 'Roma', 'Barcelona']\n",
      "['Madrid', 'Barcelona', 'Murcia', 'Alicante', 'Valencia', 'Oporto', 'Sevilla', 'Lisboa', 'Roma', 'Barcelona']\n",
      "['Madrid', 'Barcelona', 'Murcia', 'Alicante', 'Valencia', 'Oporto', 'Sevilla', 'Lisboa', 'Roma', 'Barcelona']\n",
      "['Madrid', 'Barcelona', 'Murcia', 'Alicante', 'Valencia', 'Oporto', 'Sevilla', 'Lisboa', 'Roma', 'Barcelona']\n",
      "['Madrid', 'Barcelona', 'Murcia', 'Alicante', 'Valencia', 'Oporto', 'Sevilla', 'Lisboa', 'Roma', 'Barcelona']\n",
      "['Madrid', 'Barcelona', 'Murcia', 'Alicante', 'Valencia', 'Oporto', 'Sevilla', 'Lisboa', 'Roma', 'Barcelona']\n",
      "['Madrid', 'Barcelona', 'Murcia', 'Alicante', 'Valencia', 'Oporto', 'Sevilla', 'Lisboa', 'Roma', 'Barcelona']\n",
      "['Madrid', 'Barcelona', 'Murcia', 'Alicante', 'Valencia', 'Oporto', 'Sevilla', 'Lisboa', 'Roma', 'Barcelona']\n",
      "['Madrid', 'Barcelona', 'Murcia', 'Alicante', 'Valencia', 'Oporto', 'Sevilla', 'Lisboa', 'Roma', 'Barcelona']\n",
      "['Madrid', 'Barcelona', 'Murcia', 'Alicante', 'Valencia', 'Oporto', 'Sevilla', 'Lisboa', 'Roma', 'Barcelona']\n",
      "['Madrid', 'Barcelona', 'Murcia', 'Alicante', 'Valencia', 'Oporto', 'Sevilla', 'Lisboa', 'Roma', 'Barcelona']\n"
     ]
    }
   ],
   "source": [
    "ciudades=[\"Madrid\",\"Barcelona\",\"Murcia\",\"Alicante\",\"Valencia\",\"Oporto\",\"Sevilla\",\"Lisboa\",\"Roma\"]\n",
    "print(ciudades.append(\"Barcelona\"))\n",
    "print(ciudades)\n",
    "\n",
    "pos=0\n",
    "for ciudad in ciudades:\n",
    "    print(ciudades)"
   ]
  },
  {
   "cell_type": "code",
   "execution_count": 14,
   "metadata": {},
   "outputs": [
    {
     "name": "stdout",
     "output_type": "stream",
     "text": [
      "None\n",
      "['Madrid', 'Barcelona', 'Murcia', 'Alicante', 'Valencia', 'Oporto', 'Sevilla', 'Lisboa', 'Roma', 'Barcelona']\n",
      "['Madrid', 'Barcelona', 'Murcia', 'Alicante', 'Valencia', 'Oporto', 'Sevilla', 'Lisboa', 'Roma', 'Barcelona']\n",
      "['Madrid', 'Barcelona', 'Murcia', 'Alicante', 'Valencia', 'Oporto', 'Sevilla', 'Lisboa', 'Roma', 'Barcelona']\n",
      "['Madrid', 'Barcelona', 'Murcia', 'Alicante', 'Valencia', 'Oporto', 'Sevilla', 'Lisboa', 'Roma', 'Barcelona']\n",
      "['Madrid', 'Barcelona', 'Murcia', 'Alicante', 'Valencia', 'Oporto', 'Sevilla', 'Lisboa', 'Roma', 'Barcelona']\n",
      "['Madrid', 'Barcelona', 'Murcia', 'Alicante', 'Valencia', 'Oporto', 'Sevilla', 'Lisboa', 'Roma', 'Barcelona']\n",
      "['Madrid', 'Barcelona', 'Murcia', 'Alicante', 'Valencia', 'Oporto', 'Sevilla', 'Lisboa', 'Roma', 'Barcelona']\n",
      "['Madrid', 'Barcelona', 'Murcia', 'Alicante', 'Valencia', 'Oporto', 'Sevilla', 'Lisboa', 'Roma', 'Barcelona']\n",
      "['Madrid', 'Barcelona', 'Murcia', 'Alicante', 'Valencia', 'Oporto', 'Sevilla', 'Lisboa', 'Roma', 'Barcelona']\n",
      "['Madrid', 'Barcelona', 'Murcia', 'Alicante', 'Valencia', 'Oporto', 'Sevilla', 'Lisboa', 'Roma', 'Barcelona']\n",
      "['Madrid', 'Barcelona', 'Murcia', 'Alicante', 'Valencia', 'Oporto', 'Sevilla', 'Lisboa', 'Roma', 'Barcelona']\n",
      "Alicante aparece0 veces\n"
     ]
    }
   ],
   "source": [
    "ciudades=[\"Madrid\",\"Barcelona\",\"Murcia\",\"Alicante\",\"Valencia\",\"Oporto\",\"Sevilla\",\"Lisboa\",\"Roma\"]\n",
    "print(ciudades.append(\"Barcelona\"))\n",
    "print(ciudades)\n",
    "\n",
    "pos=0\n",
    "for ciudad in ciudades:\n",
    "    print(ciudades)\n",
    "    \n",
    "ciudades.append(\"Alicante\")\n",
    "ciudades.index(\"Alicante\")\n",
    "contador=0\n",
    "for ciudad in ciudades: \n",
    "    if ciudades == \"Alicante\":\n",
    "        contador=contador+1\n",
    "print(\"Alicante aparece%i veces\"%(contador))"
   ]
  },
  {
   "cell_type": "code",
   "execution_count": 16,
   "metadata": {},
   "outputs": [
    {
     "name": "stdout",
     "output_type": "stream",
     "text": [
      "['Madrid', 'Alicante', 'Alicante', 'Barcelona', 'Murcia', 'Alicante', 'Valencia', 'Oporto', 'Sevilla', 'Lisboa', 'Roma', 'Barcelona', 'Alicante']\n"
     ]
    }
   ],
   "source": [
    "ciudades.insert(1,\"Alicante\")\n",
    "print(ciudades)\n",
    "del(ciudades[8])"
   ]
  },
  {
   "cell_type": "code",
   "execution_count": null,
   "metadata": {},
   "outputs": [],
   "source": []
  }
 ],
 "metadata": {
  "kernelspec": {
   "display_name": "Python 3",
   "language": "python",
   "name": "python3"
  },
  "language_info": {
   "codemirror_mode": {
    "name": "ipython",
    "version": 3
   },
   "file_extension": ".py",
   "mimetype": "text/x-python",
   "name": "python",
   "nbconvert_exporter": "python",
   "pygments_lexer": "ipython3",
   "version": "3.8.3"
  }
 },
 "nbformat": 4,
 "nbformat_minor": 4
}

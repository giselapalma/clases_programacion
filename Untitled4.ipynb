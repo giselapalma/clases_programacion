{
 "cells": [
  {
   "cell_type": "code",
   "execution_count": 1,
   "metadata": {},
   "outputs": [
    {
     "name": "stdout",
     "output_type": "stream",
     "text": [
      "Este curso de Python me gusta\n"
     ]
    }
   ],
   "source": [
    "print(\"Este curso de Python me gusta\")"
   ]
  },
  {
   "cell_type": "code",
   "execution_count": 10,
   "metadata": {},
   "outputs": [
    {
     "name": "stdout",
     "output_type": "stream",
     "text": [
      "EstecursodePythonmegusta\n"
     ]
    }
   ],
   "source": [
    "a=\"Este\"\n",
    "espacio=\"\"\n",
    "b=\"curso\"\n",
    "c= \"de\"\n",
    "d= \"Python\"\n",
    "e= \"me\"\n",
    "f=\"gusta\"\n",
    "print(a+espacio+b+espacio+c+espacio+d+espacio+e+espacio+f)"
   ]
  },
  {
   "cell_type": "code",
   "execution_count": 11,
   "metadata": {},
   "outputs": [
    {
     "name": "stdin",
     "output_type": "stream",
     "text": [
      "pedir la cuenta: 150\n"
     ]
    }
   ],
   "source": [
    "cuenta=eval(input(\"pedir la cuenta:\"))"
   ]
  },
  {
   "cell_type": "code",
   "execution_count": 12,
   "metadata": {},
   "outputs": [
    {
     "name": "stdin",
     "output_type": "stream",
     "text": [
      "numero de comensales 3\n"
     ]
    }
   ],
   "source": [
    "comensales=eval(input(\"numero de comensales\"))"
   ]
  },
  {
   "cell_type": "code",
   "execution_count": 15,
   "metadata": {},
   "outputs": [
    {
     "name": "stdout",
     "output_type": "stream",
     "text": [
      "cada uno paga 50.0\n"
     ]
    }
   ],
   "source": [
    "print(\"cada uno paga\",cuenta/comensales)"
   ]
  },
  {
   "cell_type": "code",
   "execution_count": 23,
   "metadata": {},
   "outputs": [
    {
     "name": "stdout",
     "output_type": "stream",
     "text": [
      "1kg es 2204 libras\n"
     ]
    }
   ],
   "source": [
    "print (\"1kg es\", \"2204 libras\")"
   ]
  },
  {
   "cell_type": "code",
   "execution_count": null,
   "metadata": {},
   "outputs": [],
   "source": [
    "un kilo= eval(input(\"libras\")"
   ]
  },
  {
   "cell_type": "code",
   "execution_count": null,
   "metadata": {},
   "outputs": [],
   "source": []
  }
 ],
 "metadata": {
  "kernelspec": {
   "display_name": "Python 3",
   "language": "python",
   "name": "python3"
  },
  "language_info": {
   "codemirror_mode": {
    "name": "ipython",
    "version": 3
   },
   "file_extension": ".py",
   "mimetype": "text/x-python",
   "name": "python",
   "nbconvert_exporter": "python",
   "pygments_lexer": "ipython3",
   "version": "3.8.3"
  }
 },
 "nbformat": 4,
 "nbformat_minor": 4
}
